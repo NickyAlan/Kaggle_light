{
 "cells": [
  {
   "attachments": {},
   "cell_type": "markdown",
   "metadata": {},
   "source": [
    "MAP@K permits the evaluation of multiple predictions for a single row. It's often used for reccomendation systems\n",
    "\n",
    "more resoure : [Asher U.](https://medium.com/kbtg-life/%E0%B8%97%E0%B8%B3%E0%B9%84%E0%B8%A1-mean-average-precision-at-k-map-k-%E0%B8%96%E0%B8%B6%E0%B8%87%E0%B8%A1%E0%B8%B5%E0%B8%9B%E0%B8%A3%E0%B8%B0%E0%B9%82%E0%B8%A2%E0%B8%8A%E0%B8%99%E0%B9%8C%E0%B8%81%E0%B8%B1%E0%B8%9A%E0%B9%82%E0%B8%88%E0%B8%97%E0%B8%A2%E0%B9%8C-classification-model-c9ad47d51608)"
   ]
  },
  {
   "cell_type": "code",
   "execution_count": 162,
   "metadata": {},
   "outputs": [],
   "source": [
    "import numpy as np\n",
    "import pandas as pd\n",
    "from sklearn.preprocessing import OrdinalEncoder\n",
    "from sklearn.linear_model import LogisticRegression\n",
    "from sklearn.model_selection import train_test_split\n",
    "# ref: https://www.kaggle.com/code/wlifferth/generating-map-k-predictions/notebook"
   ]
  },
  {
   "cell_type": "code",
   "execution_count": 163,
   "metadata": {},
   "outputs": [
    {
     "data": {
      "text/html": [
       "<div>\n",
       "<style scoped>\n",
       "    .dataframe tbody tr th:only-of-type {\n",
       "        vertical-align: middle;\n",
       "    }\n",
       "\n",
       "    .dataframe tbody tr th {\n",
       "        vertical-align: top;\n",
       "    }\n",
       "\n",
       "    .dataframe thead th {\n",
       "        text-align: right;\n",
       "    }\n",
       "</style>\n",
       "<table border=\"1\" class=\"dataframe\">\n",
       "  <thead>\n",
       "    <tr style=\"text-align: right;\">\n",
       "      <th></th>\n",
       "      <th>id</th>\n",
       "      <th>sudden_fever</th>\n",
       "      <th>headache</th>\n",
       "      <th>mouth_bleed</th>\n",
       "      <th>nose_bleed</th>\n",
       "      <th>muscle_pain</th>\n",
       "      <th>joint_pain</th>\n",
       "      <th>vomiting</th>\n",
       "      <th>rash</th>\n",
       "      <th>diarrhea</th>\n",
       "      <th>...</th>\n",
       "      <th>breathing_restriction</th>\n",
       "      <th>toe_inflammation</th>\n",
       "      <th>finger_inflammation</th>\n",
       "      <th>lips_irritation</th>\n",
       "      <th>itchiness</th>\n",
       "      <th>ulcers</th>\n",
       "      <th>toenail_loss</th>\n",
       "      <th>speech_problem</th>\n",
       "      <th>bullseye_rash</th>\n",
       "      <th>prognosis</th>\n",
       "    </tr>\n",
       "  </thead>\n",
       "  <tbody>\n",
       "    <tr>\n",
       "      <th>0</th>\n",
       "      <td>0</td>\n",
       "      <td>1.0</td>\n",
       "      <td>1.0</td>\n",
       "      <td>0.0</td>\n",
       "      <td>1.0</td>\n",
       "      <td>1.0</td>\n",
       "      <td>1.0</td>\n",
       "      <td>1.0</td>\n",
       "      <td>0.0</td>\n",
       "      <td>1.0</td>\n",
       "      <td>...</td>\n",
       "      <td>0.0</td>\n",
       "      <td>0.0</td>\n",
       "      <td>0.0</td>\n",
       "      <td>0.0</td>\n",
       "      <td>0.0</td>\n",
       "      <td>0.0</td>\n",
       "      <td>0.0</td>\n",
       "      <td>0.0</td>\n",
       "      <td>0.0</td>\n",
       "      <td>Lyme_disease</td>\n",
       "    </tr>\n",
       "    <tr>\n",
       "      <th>1</th>\n",
       "      <td>1</td>\n",
       "      <td>0.0</td>\n",
       "      <td>0.0</td>\n",
       "      <td>0.0</td>\n",
       "      <td>0.0</td>\n",
       "      <td>0.0</td>\n",
       "      <td>0.0</td>\n",
       "      <td>1.0</td>\n",
       "      <td>0.0</td>\n",
       "      <td>1.0</td>\n",
       "      <td>...</td>\n",
       "      <td>0.0</td>\n",
       "      <td>0.0</td>\n",
       "      <td>0.0</td>\n",
       "      <td>0.0</td>\n",
       "      <td>0.0</td>\n",
       "      <td>0.0</td>\n",
       "      <td>0.0</td>\n",
       "      <td>0.0</td>\n",
       "      <td>0.0</td>\n",
       "      <td>Tungiasis</td>\n",
       "    </tr>\n",
       "    <tr>\n",
       "      <th>2</th>\n",
       "      <td>2</td>\n",
       "      <td>0.0</td>\n",
       "      <td>1.0</td>\n",
       "      <td>1.0</td>\n",
       "      <td>1.0</td>\n",
       "      <td>0.0</td>\n",
       "      <td>1.0</td>\n",
       "      <td>1.0</td>\n",
       "      <td>1.0</td>\n",
       "      <td>1.0</td>\n",
       "      <td>...</td>\n",
       "      <td>1.0</td>\n",
       "      <td>1.0</td>\n",
       "      <td>1.0</td>\n",
       "      <td>1.0</td>\n",
       "      <td>1.0</td>\n",
       "      <td>0.0</td>\n",
       "      <td>1.0</td>\n",
       "      <td>1.0</td>\n",
       "      <td>1.0</td>\n",
       "      <td>Lyme_disease</td>\n",
       "    </tr>\n",
       "    <tr>\n",
       "      <th>3</th>\n",
       "      <td>3</td>\n",
       "      <td>0.0</td>\n",
       "      <td>0.0</td>\n",
       "      <td>1.0</td>\n",
       "      <td>1.0</td>\n",
       "      <td>1.0</td>\n",
       "      <td>1.0</td>\n",
       "      <td>0.0</td>\n",
       "      <td>1.0</td>\n",
       "      <td>0.0</td>\n",
       "      <td>...</td>\n",
       "      <td>0.0</td>\n",
       "      <td>0.0</td>\n",
       "      <td>0.0</td>\n",
       "      <td>0.0</td>\n",
       "      <td>0.0</td>\n",
       "      <td>0.0</td>\n",
       "      <td>0.0</td>\n",
       "      <td>0.0</td>\n",
       "      <td>0.0</td>\n",
       "      <td>Zika</td>\n",
       "    </tr>\n",
       "    <tr>\n",
       "      <th>4</th>\n",
       "      <td>4</td>\n",
       "      <td>0.0</td>\n",
       "      <td>0.0</td>\n",
       "      <td>0.0</td>\n",
       "      <td>0.0</td>\n",
       "      <td>0.0</td>\n",
       "      <td>0.0</td>\n",
       "      <td>0.0</td>\n",
       "      <td>0.0</td>\n",
       "      <td>1.0</td>\n",
       "      <td>...</td>\n",
       "      <td>0.0</td>\n",
       "      <td>1.0</td>\n",
       "      <td>0.0</td>\n",
       "      <td>0.0</td>\n",
       "      <td>1.0</td>\n",
       "      <td>1.0</td>\n",
       "      <td>1.0</td>\n",
       "      <td>0.0</td>\n",
       "      <td>0.0</td>\n",
       "      <td>Rift_Valley_fever</td>\n",
       "    </tr>\n",
       "  </tbody>\n",
       "</table>\n",
       "<p>5 rows × 66 columns</p>\n",
       "</div>"
      ],
      "text/plain": [
       "   id  sudden_fever  headache  mouth_bleed  nose_bleed  muscle_pain   \n",
       "0   0           1.0       1.0          0.0         1.0          1.0  \\\n",
       "1   1           0.0       0.0          0.0         0.0          0.0   \n",
       "2   2           0.0       1.0          1.0         1.0          0.0   \n",
       "3   3           0.0       0.0          1.0         1.0          1.0   \n",
       "4   4           0.0       0.0          0.0         0.0          0.0   \n",
       "\n",
       "   joint_pain  vomiting  rash  diarrhea  ...  breathing_restriction   \n",
       "0         1.0       1.0   0.0       1.0  ...                    0.0  \\\n",
       "1         0.0       1.0   0.0       1.0  ...                    0.0   \n",
       "2         1.0       1.0   1.0       1.0  ...                    1.0   \n",
       "3         1.0       0.0   1.0       0.0  ...                    0.0   \n",
       "4         0.0       0.0   0.0       1.0  ...                    0.0   \n",
       "\n",
       "   toe_inflammation  finger_inflammation  lips_irritation  itchiness  ulcers   \n",
       "0               0.0                  0.0              0.0        0.0     0.0  \\\n",
       "1               0.0                  0.0              0.0        0.0     0.0   \n",
       "2               1.0                  1.0              1.0        1.0     0.0   \n",
       "3               0.0                  0.0              0.0        0.0     0.0   \n",
       "4               1.0                  0.0              0.0        1.0     1.0   \n",
       "\n",
       "   toenail_loss  speech_problem  bullseye_rash          prognosis  \n",
       "0           0.0             0.0            0.0       Lyme_disease  \n",
       "1           0.0             0.0            0.0          Tungiasis  \n",
       "2           1.0             1.0            1.0       Lyme_disease  \n",
       "3           0.0             0.0            0.0               Zika  \n",
       "4           1.0             0.0            0.0  Rift_Valley_fever  \n",
       "\n",
       "[5 rows x 66 columns]"
      ]
     },
     "execution_count": 163,
     "metadata": {},
     "output_type": "execute_result"
    }
   ],
   "source": [
    "train_df = pd.read_csv('./datasets/BorneDiseaseDataset/train.csv')\n",
    "train_df.head()"
   ]
  },
  {
   "cell_type": "code",
   "execution_count": 164,
   "metadata": {},
   "outputs": [
    {
     "data": {
      "text/plain": [
       "prognosis\n",
       "West_Nile_fever          85\n",
       "Japanese_encephalitis    81\n",
       "Tungiasis                70\n",
       "Rift_Valley_fever        70\n",
       "Chikungunya              66\n",
       "Dengue                   63\n",
       "Yellow_Fever             61\n",
       "Zika                     58\n",
       "Plague                   53\n",
       "Lyme_disease             52\n",
       "Malaria                  48\n",
       "Name: count, dtype: int64"
      ]
     },
     "execution_count": 164,
     "metadata": {},
     "output_type": "execute_result"
    }
   ],
   "source": [
    "train_df['prognosis'].value_counts()"
   ]
  },
  {
   "cell_type": "code",
   "execution_count": 165,
   "metadata": {},
   "outputs": [
    {
     "data": {
      "text/plain": [
       "0     3.0\n",
       "1     7.0\n",
       "2     3.0\n",
       "3    10.0\n",
       "4     6.0\n",
       "5     3.0\n",
       "6     8.0\n",
       "7     7.0\n",
       "8     4.0\n",
       "9     0.0\n",
       "Name: prognosis, dtype: float64"
      ]
     },
     "execution_count": 165,
     "metadata": {},
     "output_type": "execute_result"
    }
   ],
   "source": [
    "encoder = OrdinalEncoder()\n",
    "train_df['prognosis'] = encoder.fit_transform(train_df[['prognosis']])\n",
    "train_df['prognosis'][:10]"
   ]
  },
  {
   "cell_type": "code",
   "execution_count": 166,
   "metadata": {},
   "outputs": [
    {
     "data": {
      "text/plain": [
       "[array(['Chikungunya', 'Dengue', 'Japanese_encephalitis', 'Lyme_disease',\n",
       "        'Malaria', 'Plague', 'Rift_Valley_fever', 'Tungiasis',\n",
       "        'West_Nile_fever', 'Yellow_Fever', 'Zika'], dtype=object)]"
      ]
     },
     "execution_count": 166,
     "metadata": {},
     "output_type": "execute_result"
    }
   ],
   "source": [
    "encoder.categories_"
   ]
  },
  {
   "cell_type": "code",
   "execution_count": 167,
   "metadata": {},
   "outputs": [],
   "source": [
    "X_train, X_test, y_train, y_test = train_test_split(train_df.drop('prognosis', axis=1), train_df['prognosis'], random_state=31, test_size=0.1)"
   ]
  },
  {
   "cell_type": "code",
   "execution_count": 168,
   "metadata": {},
   "outputs": [
    {
     "data": {
      "text/plain": [
       "((636, 65), (71, 65), (636,), (71,))"
      ]
     },
     "execution_count": 168,
     "metadata": {},
     "output_type": "execute_result"
    }
   ],
   "source": [
    "X_train.shape, X_test.shape, y_train.shape, y_test.shape"
   ]
  },
  {
   "cell_type": "code",
   "execution_count": 169,
   "metadata": {},
   "outputs": [],
   "source": [
    "# training and predict probabiliities\n",
    "lr_clf = LogisticRegression(solver='lbfgs', max_iter=4000)\n",
    "lr_clf.fit(X_train, y_train)\n",
    "predictions = lr_clf.predict_proba(X_test)"
   ]
  },
  {
   "cell_type": "code",
   "execution_count": 170,
   "metadata": {},
   "outputs": [
    {
     "data": {
      "text/plain": [
       "(array([9.82485180e-03, 3.68607637e-01, 5.27947658e-02, 1.95002000e-05,\n",
       "        4.04399863e-04, 6.30745545e-04, 1.15904990e-01, 3.05896918e-01,\n",
       "        1.29613830e-01, 9.02574335e-03, 7.27661856e-03]),\n",
       " (71, 11))"
      ]
     },
     "execution_count": 170,
     "metadata": {},
     "output_type": "execute_result"
    }
   ],
   "source": [
    "predictions[0], predictions.shape"
   ]
  },
  {
   "attachments": {},
   "cell_type": "markdown",
   "metadata": {},
   "source": [
    "<img src=\"https://www.sharpsightlabs.com/wp-content/uploads/2022/04/numpy-argsort_simple-visual-example.png\" width=400px>"
   ]
  },
  {
   "cell_type": "code",
   "execution_count": 171,
   "metadata": {},
   "outputs": [
    {
     "name": "stdout",
     "output_type": "stream",
     "text": [
      "Output of predict_proba:\n",
      "[9.82485180e-03 3.68607637e-01 5.27947658e-02 1.95002000e-05\n",
      " 4.04399863e-04 6.30745545e-04 1.15904990e-01 3.05896918e-01\n",
      " 1.29613830e-01 9.02574335e-03 7.27661856e-03]\n",
      "[ 1  7  8  6  2  0  9 10  5  4  3]\n"
     ]
    }
   ],
   "source": [
    "# take a look at getting our top 3 prognoses\n",
    "sorted_prediction_ids = np.argsort(-predictions[0]) # reverse argsort\n",
    "print(\"Output of predict_proba:\")\n",
    "print(predictions[0])\n",
    "print(sorted_prediction_ids)"
   ]
  },
  {
   "cell_type": "code",
   "execution_count": 172,
   "metadata": {},
   "outputs": [
    {
     "data": {
      "text/plain": [
       "True"
      ]
     },
     "execution_count": 172,
     "metadata": {},
     "output_type": "execute_result"
    }
   ],
   "source": [
    "predictions[0][1] == np.max(predictions[0]) # yes, index 1 actually the most value"
   ]
  },
  {
   "cell_type": "code",
   "execution_count": 173,
   "metadata": {},
   "outputs": [
    {
     "name": "stdout",
     "output_type": "stream",
     "text": [
      "[1 7 8]\n",
      "[['Dengue']\n",
      " ['Tungiasis']\n",
      " ['West_Nile_fever']]\n"
     ]
    }
   ],
   "source": [
    "top_3_prediction_ids = sorted_prediction_ids[:3]\n",
    "top_3_predictions = encoder.inverse_transform(top_3_prediction_ids.reshape(-1,1))\n",
    "print(top_3_prediction_ids)\n",
    "print(top_3_predictions)"
   ]
  },
  {
   "cell_type": "code",
   "execution_count": 174,
   "metadata": {},
   "outputs": [
    {
     "data": {
      "text/plain": [
       "(array([[ 1,  7,  8],\n",
       "        [ 4,  2, 10],\n",
       "        [ 1,  7,  0],\n",
       "        [ 1,  8,  7],\n",
       "        [ 7,  6, 10]], dtype=int64),\n",
       " (71, 3))"
      ]
     },
     "execution_count": 174,
     "metadata": {},
     "output_type": "execute_result"
    }
   ],
   "source": [
    "# sort axis=1 by/each row\n",
    "sorted_prediction_ids = np.argsort(-predictions, axis=1)\n",
    "top_3_prediction_ids = sorted_prediction_ids[:, :3]\n",
    "top_3_prediction_ids[:5], top_3_prediction_ids.shape"
   ]
  },
  {
   "cell_type": "code",
   "execution_count": 175,
   "metadata": {},
   "outputs": [
    {
     "data": {
      "text/plain": [
       "array([['Dengue', 'Tungiasis', 'West_Nile_fever'],\n",
       "       ['Malaria', 'Japanese_encephalitis', 'Zika'],\n",
       "       ['Dengue', 'Tungiasis', 'Chikungunya'],\n",
       "       ['Dengue', 'West_Nile_fever', 'Tungiasis'],\n",
       "       ['Tungiasis', 'Rift_Valley_fever', 'Zika']], dtype=object)"
      ]
     },
     "execution_count": 175,
     "metadata": {},
     "output_type": "execute_result"
    }
   ],
   "source": [
    "original_shape = top_3_prediction_ids.shape\n",
    "top_3_predictions = encoder.inverse_transform(top_3_prediction_ids.reshape(-1,1))\n",
    "top_3_predictions = top_3_predictions.reshape(original_shape)\n",
    "top_3_predictions[:5]"
   ]
  },
  {
   "attachments": {},
   "cell_type": "markdown",
   "metadata": {},
   "source": [
    "**Calculating MAP@K on our validation set**\n",
    "- we have our top K (3) predictions"
   ]
  },
  {
   "cell_type": "code",
   "execution_count": 176,
   "metadata": {},
   "outputs": [],
   "source": [
    "def apk(actual, predicted, k=3) :\n",
    "    \"\"\"\n",
    "    compute the average precision at k\n",
    "    \"\"\"\n",
    "    if len(predicted) > k :\n",
    "        predicted = predicted[:k]\n",
    "    \n",
    "    score = 0.0\n",
    "    num_hits = 0.0\n",
    "    \n",
    "    for i, p in enumerate(predicted) :\n",
    "        if (p in actual) and p not in predicted[:i] :\n",
    "            num_hits += 1.0\n",
    "            score += num_hits/(i+1.0)\n",
    "    \n",
    "    if not actual :\n",
    "        return 0.0\n",
    "    \n",
    "    return score / min(len(actual), k)\n",
    "\n",
    "def mapk(actual, predicted, k=3) :\n",
    "    return np.mean([apk(a,p,k) for a,p in zip(actual, predicted)])"
   ]
  },
  {
   "cell_type": "code",
   "execution_count": 177,
   "metadata": {},
   "outputs": [
    {
     "data": {
      "text/plain": [
       "0.2652582159624413"
      ]
     },
     "execution_count": 177,
     "metadata": {},
     "output_type": "execute_result"
    }
   ],
   "source": [
    "mapk(y_test.values.reshape(-1,1), top_3_prediction_ids, k=3)"
   ]
  },
  {
   "cell_type": "code",
   "execution_count": 178,
   "metadata": {},
   "outputs": [
    {
     "data": {
      "text/html": [
       "<div>\n",
       "<style scoped>\n",
       "    .dataframe tbody tr th:only-of-type {\n",
       "        vertical-align: middle;\n",
       "    }\n",
       "\n",
       "    .dataframe tbody tr th {\n",
       "        vertical-align: top;\n",
       "    }\n",
       "\n",
       "    .dataframe thead th {\n",
       "        text-align: right;\n",
       "    }\n",
       "</style>\n",
       "<table border=\"1\" class=\"dataframe\">\n",
       "  <thead>\n",
       "    <tr style=\"text-align: right;\">\n",
       "      <th></th>\n",
       "      <th>id</th>\n",
       "      <th>sudden_fever</th>\n",
       "      <th>headache</th>\n",
       "      <th>mouth_bleed</th>\n",
       "      <th>nose_bleed</th>\n",
       "      <th>muscle_pain</th>\n",
       "      <th>joint_pain</th>\n",
       "      <th>vomiting</th>\n",
       "      <th>rash</th>\n",
       "      <th>diarrhea</th>\n",
       "      <th>...</th>\n",
       "      <th>lymph_swells</th>\n",
       "      <th>breathing_restriction</th>\n",
       "      <th>toe_inflammation</th>\n",
       "      <th>finger_inflammation</th>\n",
       "      <th>lips_irritation</th>\n",
       "      <th>itchiness</th>\n",
       "      <th>ulcers</th>\n",
       "      <th>toenail_loss</th>\n",
       "      <th>speech_problem</th>\n",
       "      <th>bullseye_rash</th>\n",
       "    </tr>\n",
       "  </thead>\n",
       "  <tbody>\n",
       "    <tr>\n",
       "      <th>0</th>\n",
       "      <td>707</td>\n",
       "      <td>0.0</td>\n",
       "      <td>0.0</td>\n",
       "      <td>0.0</td>\n",
       "      <td>0.0</td>\n",
       "      <td>0.0</td>\n",
       "      <td>0.0</td>\n",
       "      <td>0.0</td>\n",
       "      <td>0.0</td>\n",
       "      <td>0.0</td>\n",
       "      <td>...</td>\n",
       "      <td>0.0</td>\n",
       "      <td>0.0</td>\n",
       "      <td>0.0</td>\n",
       "      <td>0.0</td>\n",
       "      <td>0.0</td>\n",
       "      <td>0.0</td>\n",
       "      <td>0.0</td>\n",
       "      <td>0.0</td>\n",
       "      <td>0.0</td>\n",
       "      <td>0.0</td>\n",
       "    </tr>\n",
       "    <tr>\n",
       "      <th>1</th>\n",
       "      <td>708</td>\n",
       "      <td>1.0</td>\n",
       "      <td>1.0</td>\n",
       "      <td>0.0</td>\n",
       "      <td>1.0</td>\n",
       "      <td>0.0</td>\n",
       "      <td>1.0</td>\n",
       "      <td>1.0</td>\n",
       "      <td>1.0</td>\n",
       "      <td>1.0</td>\n",
       "      <td>...</td>\n",
       "      <td>0.0</td>\n",
       "      <td>0.0</td>\n",
       "      <td>0.0</td>\n",
       "      <td>0.0</td>\n",
       "      <td>0.0</td>\n",
       "      <td>0.0</td>\n",
       "      <td>0.0</td>\n",
       "      <td>0.0</td>\n",
       "      <td>0.0</td>\n",
       "      <td>0.0</td>\n",
       "    </tr>\n",
       "    <tr>\n",
       "      <th>2</th>\n",
       "      <td>709</td>\n",
       "      <td>1.0</td>\n",
       "      <td>1.0</td>\n",
       "      <td>0.0</td>\n",
       "      <td>1.0</td>\n",
       "      <td>1.0</td>\n",
       "      <td>1.0</td>\n",
       "      <td>1.0</td>\n",
       "      <td>0.0</td>\n",
       "      <td>1.0</td>\n",
       "      <td>...</td>\n",
       "      <td>0.0</td>\n",
       "      <td>0.0</td>\n",
       "      <td>0.0</td>\n",
       "      <td>0.0</td>\n",
       "      <td>0.0</td>\n",
       "      <td>1.0</td>\n",
       "      <td>0.0</td>\n",
       "      <td>0.0</td>\n",
       "      <td>0.0</td>\n",
       "      <td>0.0</td>\n",
       "    </tr>\n",
       "    <tr>\n",
       "      <th>3</th>\n",
       "      <td>710</td>\n",
       "      <td>0.0</td>\n",
       "      <td>1.0</td>\n",
       "      <td>0.0</td>\n",
       "      <td>0.0</td>\n",
       "      <td>0.0</td>\n",
       "      <td>1.0</td>\n",
       "      <td>1.0</td>\n",
       "      <td>1.0</td>\n",
       "      <td>0.0</td>\n",
       "      <td>...</td>\n",
       "      <td>0.0</td>\n",
       "      <td>0.0</td>\n",
       "      <td>0.0</td>\n",
       "      <td>0.0</td>\n",
       "      <td>0.0</td>\n",
       "      <td>0.0</td>\n",
       "      <td>0.0</td>\n",
       "      <td>0.0</td>\n",
       "      <td>0.0</td>\n",
       "      <td>0.0</td>\n",
       "    </tr>\n",
       "    <tr>\n",
       "      <th>4</th>\n",
       "      <td>711</td>\n",
       "      <td>0.0</td>\n",
       "      <td>0.0</td>\n",
       "      <td>1.0</td>\n",
       "      <td>0.0</td>\n",
       "      <td>1.0</td>\n",
       "      <td>1.0</td>\n",
       "      <td>0.0</td>\n",
       "      <td>0.0</td>\n",
       "      <td>1.0</td>\n",
       "      <td>...</td>\n",
       "      <td>0.0</td>\n",
       "      <td>0.0</td>\n",
       "      <td>0.0</td>\n",
       "      <td>0.0</td>\n",
       "      <td>0.0</td>\n",
       "      <td>0.0</td>\n",
       "      <td>0.0</td>\n",
       "      <td>0.0</td>\n",
       "      <td>0.0</td>\n",
       "      <td>0.0</td>\n",
       "    </tr>\n",
       "  </tbody>\n",
       "</table>\n",
       "<p>5 rows × 65 columns</p>\n",
       "</div>"
      ],
      "text/plain": [
       "    id  sudden_fever  headache  mouth_bleed  nose_bleed  muscle_pain   \n",
       "0  707           0.0       0.0          0.0         0.0          0.0  \\\n",
       "1  708           1.0       1.0          0.0         1.0          0.0   \n",
       "2  709           1.0       1.0          0.0         1.0          1.0   \n",
       "3  710           0.0       1.0          0.0         0.0          0.0   \n",
       "4  711           0.0       0.0          1.0         0.0          1.0   \n",
       "\n",
       "   joint_pain  vomiting  rash  diarrhea  ...  lymph_swells   \n",
       "0         0.0       0.0   0.0       0.0  ...           0.0  \\\n",
       "1         1.0       1.0   1.0       1.0  ...           0.0   \n",
       "2         1.0       1.0   0.0       1.0  ...           0.0   \n",
       "3         1.0       1.0   1.0       0.0  ...           0.0   \n",
       "4         1.0       0.0   0.0       1.0  ...           0.0   \n",
       "\n",
       "   breathing_restriction  toe_inflammation  finger_inflammation   \n",
       "0                    0.0               0.0                  0.0  \\\n",
       "1                    0.0               0.0                  0.0   \n",
       "2                    0.0               0.0                  0.0   \n",
       "3                    0.0               0.0                  0.0   \n",
       "4                    0.0               0.0                  0.0   \n",
       "\n",
       "   lips_irritation  itchiness  ulcers  toenail_loss  speech_problem   \n",
       "0              0.0        0.0     0.0           0.0             0.0  \\\n",
       "1              0.0        0.0     0.0           0.0             0.0   \n",
       "2              0.0        1.0     0.0           0.0             0.0   \n",
       "3              0.0        0.0     0.0           0.0             0.0   \n",
       "4              0.0        0.0     0.0           0.0             0.0   \n",
       "\n",
       "   bullseye_rash  \n",
       "0            0.0  \n",
       "1            0.0  \n",
       "2            0.0  \n",
       "3            0.0  \n",
       "4            0.0  \n",
       "\n",
       "[5 rows x 65 columns]"
      ]
     },
     "execution_count": 178,
     "metadata": {},
     "output_type": "execute_result"
    }
   ],
   "source": [
    "# generating test prediction\n",
    "test_df = pd.read_csv('./datasets/BorneDiseaseDataset/test.csv')\n",
    "test_df.head()"
   ]
  },
  {
   "cell_type": "code",
   "execution_count": 179,
   "metadata": {},
   "outputs": [
    {
     "data": {
      "text/plain": [
       "array([['Tungiasis', 'Rift_Valley_fever', 'Zika'],\n",
       "       ['Dengue', 'Chikungunya', 'Malaria'],\n",
       "       ['Japanese_encephalitis', 'West_Nile_fever', 'Yellow_Fever'],\n",
       "       ['Japanese_encephalitis', 'Rift_Valley_fever', 'Tungiasis'],\n",
       "       ['West_Nile_fever', 'Plague', 'Malaria']], dtype=object)"
      ]
     },
     "execution_count": 179,
     "metadata": {},
     "output_type": "execute_result"
    }
   ],
   "source": [
    "predictions = lr_clf.predict_proba(test_df)\n",
    "sorted_prediction_ids = np.argsort(-predictions, axis=1)\n",
    "top_3_prediction_ids = sorted_prediction_ids[:, :3]\n",
    "\n",
    "original_shape = top_3_prediction_ids.shape\n",
    "top_3_predictions = encoder.inverse_transform(top_3_prediction_ids.reshape(-1,1))\n",
    "top_3_predictions = top_3_predictions.reshape(original_shape)\n",
    "top_3_predictions[:5]"
   ]
  },
  {
   "cell_type": "code",
   "execution_count": 180,
   "metadata": {},
   "outputs": [
    {
     "data": {
      "text/plain": [
       "array(['Tungiasis Rift_Valley_fever Zika', 'Dengue Chikungunya Malaria',\n",
       "       'Japanese_encephalitis West_Nile_fever Yellow_Fever',\n",
       "       'Japanese_encephalitis Rift_Valley_fever Tungiasis',\n",
       "       'West_Nile_fever Plague Malaria'], dtype=object)"
      ]
     },
     "execution_count": 180,
     "metadata": {},
     "output_type": "execute_result"
    }
   ],
   "source": [
    "np.apply_along_axis(lambda x: np.array(' '.join(x), dtype='object'), axis=1, arr=top_3_predictions)[:5]"
   ]
  },
  {
   "cell_type": "code",
   "execution_count": 181,
   "metadata": {},
   "outputs": [
    {
     "data": {
      "text/plain": [
       "0                     Tungiasis Rift_Valley_fever Zika\n",
       "1                           Dengue Chikungunya Malaria\n",
       "2    Japanese_encephalitis West_Nile_fever Yellow_F...\n",
       "3    Japanese_encephalitis Rift_Valley_fever Tungiasis\n",
       "4                       West_Nile_fever Plague Malaria\n",
       "5                             Zika Yellow_Fever Plague\n",
       "6                 Malaria Japanese_encephalitis Plague\n",
       "7                  Dengue Yellow_Fever West_Nile_fever\n",
       "8            Yellow_Fever Plague Japanese_encephalitis\n",
       "9                          Plague Yellow_Fever Malaria\n",
       "Name: prognosis, dtype: object"
      ]
     },
     "execution_count": 181,
     "metadata": {},
     "output_type": "execute_result"
    }
   ],
   "source": [
    "# add column prediction: prognosis\n",
    "test_df['prognosis'] = np.apply_along_axis(lambda x: np.array(' '.join(x), dtype='object'), axis=1, arr=top_3_predictions)\n",
    "test_df['prognosis'][:10]"
   ]
  },
  {
   "cell_type": "code",
   "execution_count": 183,
   "metadata": {},
   "outputs": [],
   "source": [
    "test_df.to_csv('./datasets/BorneDiseaseDataset/submission.csv', columns=['id', 'prognosis'], index=False)"
   ]
  }
 ],
 "metadata": {
  "kernelspec": {
   "display_name": "kenv",
   "language": "python",
   "name": "python3"
  },
  "language_info": {
   "codemirror_mode": {
    "name": "ipython",
    "version": 3
   },
   "file_extension": ".py",
   "mimetype": "text/x-python",
   "name": "python",
   "nbconvert_exporter": "python",
   "pygments_lexer": "ipython3",
   "version": "3.10.0"
  },
  "orig_nbformat": 4
 },
 "nbformat": 4,
 "nbformat_minor": 2
}
